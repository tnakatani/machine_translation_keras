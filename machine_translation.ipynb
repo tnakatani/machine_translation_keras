{
 "cells": [
  {
   "cell_type": "markdown",
   "metadata": {
    "collapsed": true
   },
   "source": [
    "# Machine Translation Project\n",
    "In this notebook, sections that end with **'(IMPLEMENTATION)'** in the header indicate that the following blocks of code will require additional functionality which you must provide. Please be sure to read the instructions carefully!\n",
    "\n",
    "## Introduction\n",
    "In this notebook, you will build a deep neural network that functions as part of an end-to-end machine translation pipeline. Your completed pipeline will accept English text as input and return the French translation.\n",
    "\n",
    "- **Preprocess** - You'll convert text to sequence of integers.\n",
    "- **Models** Create models which accepts a sequence of integers as input and returns a probability distribution over possible translations. After learning about the basic types of neural networks that are often used for machine translation, you will engage in your own investigations, to design your own model!\n",
    "- **Prediction** Run the model on English text."
   ]
  },
  {
   "cell_type": "code",
   "execution_count": 1,
   "metadata": {},
   "outputs": [],
   "source": [
    "%load_ext autoreload\n",
    "%aimport helper, tests\n",
    "%autoreload 1"
   ]
  },
  {
   "cell_type": "markdown",
   "metadata": {},
   "source": [
    "### List dependencies versions"
   ]
  },
  {
   "cell_type": "code",
   "execution_count": 2,
   "metadata": {},
   "outputs": [
    {
     "name": "stdout",
     "output_type": "stream",
     "text": [
      "Python 3.6.3\r\n"
     ]
    }
   ],
   "source": [
    "!python --version"
   ]
  },
  {
   "cell_type": "code",
   "execution_count": 34,
   "metadata": {},
   "outputs": [
    {
     "name": "stdout",
     "output_type": "stream",
     "text": [
      "keras: 2.0.9\n",
      "tensorflow: 1.3.0\n",
      "numpy: 1.12.1\n"
     ]
    }
   ],
   "source": [
    "import keras; print(\"keras:\", keras.__version__)\n",
    "import tensorflow; print(\"tensorflow:\", tensorflow.__version__)\n",
    "import numpy; print(\"numpy:\", numpy.__version__)"
   ]
  },
  {
   "cell_type": "markdown",
   "metadata": {},
   "source": [
    "### Import Modules"
   ]
  },
  {
   "cell_type": "code",
   "execution_count": 3,
   "metadata": {},
   "outputs": [
    {
     "name": "stderr",
     "output_type": "stream",
     "text": [
      "Using TensorFlow backend.\n"
     ]
    }
   ],
   "source": [
    "import collections\n",
    "\n",
    "import helper\n",
    "import numpy as np\n",
    "import project_tests as tests\n",
    "\n",
    "from typing import List, Dict, Tuple, Sequence\n",
    "\n",
    "from keras.preprocessing.text import Tokenizer\n",
    "from keras.preprocessing.sequence import pad_sequences\n",
    "from keras.models import Model\n",
    "from keras.layers import GRU, Input, Dense, TimeDistributed, Activation, RepeatVector, Bidirectional, LSTM\n",
    "from keras.layers.embeddings import Embedding\n",
    "from keras.optimizers import Adam\n",
    "from keras.losses import sparse_categorical_crossentropy"
   ]
  },
  {
   "cell_type": "markdown",
   "metadata": {},
   "source": [
    "### Verify access to the GPU\n",
    "The following test applies only if you expect to be using a GPU, e.g., while running in a Udacity Workspace or using an AWS instance with GPU support. Run the next cell, and verify that the device_type is \"GPU\".\n",
    "- If the device is not GPU & you are running from a Udacity Workspace, then save your workspace with the icon at the top, then click \"enable\" at the bottom of the workspace.\n",
    "- If the device is not GPU & you are running from an AWS instance, then refer to the cloud computing instructions in the classroom to verify your setup steps."
   ]
  },
  {
   "cell_type": "code",
   "execution_count": 4,
   "metadata": {},
   "outputs": [
    {
     "name": "stdout",
     "output_type": "stream",
     "text": [
      "[name: \"/cpu:0\"\n",
      "device_type: \"CPU\"\n",
      "memory_limit: 268435456\n",
      "locality {\n",
      "}\n",
      "incarnation: 15390920429200236532\n",
      ", name: \"/gpu:0\"\n",
      "device_type: \"GPU\"\n",
      "memory_limit: 357564416\n",
      "locality {\n",
      "  bus_id: 1\n",
      "}\n",
      "incarnation: 9112511253615413743\n",
      "physical_device_desc: \"device: 0, name: Tesla K80, pci bus id: 0000:00:04.0\"\n",
      "]\n"
     ]
    }
   ],
   "source": [
    "from tensorflow.python.client import device_lib\n",
    "print(device_lib.list_local_devices())"
   ]
  },
  {
   "cell_type": "markdown",
   "metadata": {},
   "source": [
    "## Dataset\n",
    "We begin by investigating the dataset that will be used to train and evaluate your pipeline.  The most common datasets used for machine translation are from [WMT](http://www.statmt.org/).  However, that will take a long time to train a neural network on.  We'll be using a dataset we created for this project that contains a small vocabulary.  You'll be able to train your model in a reasonable time with this dataset.\n",
    "### Load Data\n",
    "The data is located in `data/small_vocab_en` and `data/small_vocab_fr`. The `small_vocab_en` file contains English sentences with their French translations in the `small_vocab_fr` file. Load the English and French data from these files from running the cell below."
   ]
  },
  {
   "cell_type": "code",
   "execution_count": 5,
   "metadata": {},
   "outputs": [
    {
     "name": "stdout",
     "output_type": "stream",
     "text": [
      "Dataset Loaded\n"
     ]
    }
   ],
   "source": [
    "# Load English data\n",
    "english_sentences = helper.load_data('data/small_vocab_en')\n",
    "# Load French data\n",
    "french_sentences = helper.load_data('data/small_vocab_fr')\n",
    "\n",
    "print('Dataset Loaded')"
   ]
  },
  {
   "cell_type": "markdown",
   "metadata": {},
   "source": [
    "### Files\n",
    "Each line in `small_vocab_en` contains an English sentence with the respective translation in each line of `small_vocab_fr`.  View the first two lines from each file."
   ]
  },
  {
   "cell_type": "code",
   "execution_count": 6,
   "metadata": {},
   "outputs": [
    {
     "name": "stdout",
     "output_type": "stream",
     "text": [
      "small_vocab_en Line 1:  new jersey is sometimes quiet during autumn , and it is snowy in april .\n",
      "small_vocab_fr Line 1:  new jersey est parfois calme pendant l' automne , et il est neigeux en avril .\n",
      "small_vocab_en Line 2:  the united states is usually chilly during july , and it is usually freezing in november .\n",
      "small_vocab_fr Line 2:  les états-unis est généralement froid en juillet , et il gèle habituellement en novembre .\n"
     ]
    }
   ],
   "source": [
    "for sample_i in range(2):\n",
    "    print('small_vocab_en Line {}:  {}'.format(sample_i + 1, english_sentences[sample_i]))\n",
    "    print('small_vocab_fr Line {}:  {}'.format(sample_i + 1, french_sentences[sample_i]))"
   ]
  },
  {
   "cell_type": "markdown",
   "metadata": {},
   "source": [
    "From looking at the sentences, you can see they have been preprocessed already.  The puncuations have been delimited using spaces. All the text have been converted to lowercase.  This should save you some time, but the text requires more preprocessing.\n",
    "### Vocabulary\n",
    "The complexity of the problem is determined by the complexity of the vocabulary.  A more complex vocabulary is a more complex problem.  Let's look at the complexity of the dataset we'll be working with."
   ]
  },
  {
   "cell_type": "code",
   "execution_count": 7,
   "metadata": {},
   "outputs": [
    {
     "name": "stdout",
     "output_type": "stream",
     "text": [
      "1823250 English words.\n",
      "227 unique English words.\n",
      "10 Most common words in the English dataset:\n",
      "\"is\" \",\" \".\" \"in\" \"it\" \"during\" \"the\" \"but\" \"and\" \"sometimes\"\n",
      "\n",
      "1961295 French words.\n",
      "355 unique French words.\n",
      "10 Most common words in the French dataset:\n",
      "\"est\" \".\" \",\" \"en\" \"il\" \"les\" \"mais\" \"et\" \"la\" \"parfois\"\n"
     ]
    }
   ],
   "source": [
    "english_words_counter = collections.Counter([word for sentence in english_sentences for word in sentence.split()])\n",
    "french_words_counter = collections.Counter([word for sentence in french_sentences for word in sentence.split()])\n",
    "\n",
    "print('{} English words.'.format(len([word for sentence in english_sentences for word in sentence.split()])))\n",
    "print('{} unique English words.'.format(len(english_words_counter)))\n",
    "print('10 Most common words in the English dataset:')\n",
    "print('\"' + '\" \"'.join(list(zip(*english_words_counter.most_common(10)))[0]) + '\"')\n",
    "print()\n",
    "print('{} French words.'.format(len([word for sentence in french_sentences for word in sentence.split()])))\n",
    "print('{} unique French words.'.format(len(french_words_counter)))\n",
    "print('10 Most common words in the French dataset:')\n",
    "print('\"' + '\" \"'.join(list(zip(*french_words_counter.most_common(10)))[0]) + '\"')"
   ]
  },
  {
   "cell_type": "markdown",
   "metadata": {},
   "source": [
    "For comparison, _Alice's Adventures in Wonderland_ contains 2,766 unique words of a total of 15,500 words.\n",
    "## Preprocess\n",
    "For this project, you won't use text data as input to your model. Instead, you'll convert the text into sequences of integers using the following preprocess methods:\n",
    "1. Tokenize the words into ids\n",
    "2. Add padding to make all the sequences the same length.\n",
    "\n",
    "Time to start preprocessing the data...\n",
    "### Tokenize (IMPLEMENTATION)\n",
    "For a neural network to predict on text data, it first has to be turned into data it can understand. Text data like \"dog\" is a sequence of ASCII character encodings.  Since a neural network is a series of multiplication and addition operations, the input data needs to be number(s).\n",
    "\n",
    "We can turn each character into a number or each word into a number.  These are called character and word ids, respectively.  Character ids are used for character level models that generate text predictions for each character.  A word level model uses word ids that generate text predictions for each word.  Word level models tend to learn better, since they are lower in complexity, so we'll use those.\n",
    "\n",
    "Turn each sentence into a sequence of words ids using Keras's [`Tokenizer`](https://keras.io/preprocessing/text/#tokenizer) function. Use this function to tokenize `english_sentences` and `french_sentences` in the cell below.\n",
    "\n",
    "Running the cell will run `tokenize` on sample data and show output for debugging."
   ]
  },
  {
   "cell_type": "code",
   "execution_count": 8,
   "metadata": {},
   "outputs": [
    {
     "name": "stdout",
     "output_type": "stream",
     "text": [
      "{'the': 1, 'quick': 2, 'a': 3, 'brown': 4, 'fox': 5, 'jumps': 6, 'over': 7, 'lazy': 8, 'dog': 9, 'by': 10, 'jove': 11, 'my': 12, 'study': 13, 'of': 14, 'lexicography': 15, 'won': 16, 'prize': 17, 'this': 18, 'is': 19, 'short': 20, 'sentence': 21} \n",
      "\n",
      "Sequence 1 in x\n",
      "  Input:  The quick brown fox jumps over the lazy dog .\n",
      "  Output: [1, 2, 4, 5, 6, 7, 1, 8, 9]\n",
      "Sequence 2 in x\n",
      "  Input:  By Jove , my quick study of lexicography won a prize .\n",
      "  Output: [10, 11, 12, 2, 13, 14, 15, 16, 3, 17]\n",
      "Sequence 3 in x\n",
      "  Input:  This is a short sentence .\n",
      "  Output: [18, 19, 3, 20, 21]\n"
     ]
    }
   ],
   "source": [
    "def tokenize(x):\n",
    "    \"\"\"\n",
    "    Tokenize x\n",
    "    :param x: List of sentences/strings to be tokenized\n",
    "    :return: Tuple of (tokenized x data, tokenizer used to tokenize x)\n",
    "    \"\"\"\n",
    "    # TODO: Implement\n",
    "    # Note 1: No need to create a for loop to tokenize each sentence,\n",
    "    # fit_on_texts() can handle a list of sentences.\n",
    "    # Note 2: fit_on_texts() is used to build word_index by doing uique word to number mapping.\n",
    "    # This mapping is later used to generate the matrix.\n",
    "    lang_tokenizer = Tokenizer()\n",
    "    tensor = lang_tokenizer.fit_on_texts(x)\n",
    "    tensor = lang_tokenizer.texts_to_sequences(x)\n",
    "    return tensor, lang_tokenizer\n",
    "\n",
    "tests.test_tokenize(tokenize)\n",
    "\n",
    "# Tokenize Example output\n",
    "text_sentences = [\n",
    "    'The quick brown fox jumps over the lazy dog .',\n",
    "    'By Jove , my quick study of lexicography won a prize .',\n",
    "    'This is a short sentence .']\n",
    "text_tokenized, text_tokenizer = tokenize(text_sentences)\n",
    "print(text_tokenizer.word_index, '\\n')\n",
    "\n",
    "for sample_i, (sent, token_sent) in enumerate(zip(text_sentences, text_tokenized)):\n",
    "    print('Sequence {} in x'.format(sample_i + 1))\n",
    "    print('  Input:  {}'.format(sent))\n",
    "    print('  Output: {}'.format(token_sent))"
   ]
  },
  {
   "cell_type": "markdown",
   "metadata": {},
   "source": [
    "### Padding (IMPLEMENTATION)\n",
    "When batching the sequence of word ids together, each sequence needs to be the same length.  Since sentences are dynamic in length, we can add padding to the end of the sequences to make them the same length.\n",
    "\n",
    "Make sure all the English sequences have the same length and all the French sequences have the same length by adding padding to the **end** of each sequence using Keras's [`pad_sequences`](https://keras.io/preprocessing/sequence/#pad_sequences) function."
   ]
  },
  {
   "cell_type": "code",
   "execution_count": 9,
   "metadata": {},
   "outputs": [
    {
     "name": "stdout",
     "output_type": "stream",
     "text": [
      "Sequence 1 in x\n",
      "  Input:  [1 2 4 5 6 7 1 8 9]\n",
      "  Output: [1 2 4 5 6 7 1 8 9 0]\n",
      "  Output length: 10\n",
      "\n",
      "Sequence 2 in x\n",
      "  Input:  [10 11 12  2 13 14 15 16  3 17]\n",
      "  Output: [10 11 12  2 13 14 15 16  3 17]\n",
      "  Output length: 10\n",
      "\n",
      "Sequence 3 in x\n",
      "  Input:  [18 19  3 20 21]\n",
      "  Output: [18 19  3 20 21  0  0  0  0  0]\n",
      "  Output length: 10\n",
      "\n"
     ]
    }
   ],
   "source": [
    "def pad(x, length=None):\n",
    "    \"\"\"\n",
    "    Pad x\n",
    "    :param x: List of sequences.\n",
    "    :param length: Length to pad the sequence to.  If None, use length of longest sequence in x.\n",
    "    :return: Padded numpy array of sequences\n",
    "    \"\"\"\n",
    "    # TODO: Implement\n",
    "    return pad_sequences(x, maxlen=length, padding='post')\n",
    "\n",
    "tests.test_pad(pad)\n",
    "\n",
    "# Pad Tokenized output\n",
    "test_pad = pad(text_tokenized)\n",
    "for sample_i, (token_sent, pad_sent) in enumerate(zip(text_tokenized, test_pad)):\n",
    "    print('Sequence {} in x'.format(sample_i + 1))\n",
    "    print('  Input:  {}'.format(np.array(token_sent)))\n",
    "    print('  Output: {}'.format(pad_sent))\n",
    "    print('  Output length: {}\\n'.format(len(pad_sent)))\n",
    "\n",
    "# Test that all of the sequences have the same length\n",
    "def get_max_length(sequence: list) -> int:\n",
    "    \"\"\"Returns the length of the longest sequence\"\"\"\n",
    "    return max(len(l) for l in test_pad)\n",
    "\n",
    "assert all(len(l) == get_max_length(test_pad) for l in test_pad), \\\n",
    "    \"All of the sequences don't have the same length\""
   ]
  },
  {
   "cell_type": "markdown",
   "metadata": {},
   "source": [
    "### Preprocess Pipeline\n",
    "Your focus for this project is to build neural network architecture, so we won't ask you to create a preprocess pipeline.  Instead, we've provided you with the implementation of the `preprocess` function."
   ]
  },
  {
   "cell_type": "code",
   "execution_count": 10,
   "metadata": {},
   "outputs": [
    {
     "name": "stdout",
     "output_type": "stream",
     "text": [
      "Data Preprocessed\n",
      "Max English sentence length: 15\n",
      "Max French sentence length: 21\n",
      "English vocabulary size: 199\n",
      "French vocabulary size: 344\n"
     ]
    }
   ],
   "source": [
    "def preprocess(x, y):\n",
    "    \"\"\"\n",
    "    Preprocess x and y\n",
    "    :param x: Feature List of sentences\n",
    "    :param y: Label List of sentences\n",
    "    :return: Tuple of (Preprocessed x, Preprocessed y, x tokenizer, y tokenizer)\n",
    "    \"\"\"\n",
    "    preprocess_x, x_tk = tokenize(x)\n",
    "    preprocess_y, y_tk = tokenize(y)\n",
    "\n",
    "    preprocess_x = pad(preprocess_x)\n",
    "    preprocess_y = pad(preprocess_y)\n",
    "\n",
    "    # Keras's sparse_categorical_crossentropy function requires the labels to be in 3 dimensions\n",
    "    preprocess_y = preprocess_y.reshape(*preprocess_y.shape, 1)\n",
    "\n",
    "    return preprocess_x, preprocess_y, x_tk, y_tk\n",
    "\n",
    "preproc_english_sentences, preproc_french_sentences, english_tokenizer, french_tokenizer =\\\n",
    "    preprocess(english_sentences, french_sentences)\n",
    "    \n",
    "max_english_sequence_length = preproc_english_sentences.shape[1]\n",
    "max_french_sequence_length = preproc_french_sentences.shape[1]\n",
    "english_vocab_size = len(english_tokenizer.word_index)\n",
    "french_vocab_size = len(french_tokenizer.word_index)\n",
    "\n",
    "print('Data Preprocessed')\n",
    "print(\"Max English sentence length:\", max_english_sequence_length)\n",
    "print(\"Max French sentence length:\", max_french_sequence_length)\n",
    "print(\"English vocabulary size:\", english_vocab_size)\n",
    "print(\"French vocabulary size:\", french_vocab_size)"
   ]
  },
  {
   "cell_type": "markdown",
   "metadata": {},
   "source": [
    "## Models\n",
    "In this section, you will experiment with various neural network architectures.\n",
    "You will begin by training four relatively simple architectures.\n",
    "- Model 1 is a simple RNN\n",
    "- Model 2 is a RNN with Embedding\n",
    "- Model 3 is a Bidirectional RNN\n",
    "- Model 4 is an optional Encoder-Decoder RNN\n",
    "\n",
    "After experimenting with the four simple architectures, you will construct a deeper architecture that is designed to outperform all four models.\n",
    "### Ids Back to Text\n",
    "The neural network will be translating the input to words ids, which isn't the final form we want.  We want the French translation.  The function `logits_to_text` will bridge the gab between the logits from the neural network to the French translation.  You'll be using this function to better understand the output of the neural network."
   ]
  },
  {
   "cell_type": "code",
   "execution_count": 11,
   "metadata": {},
   "outputs": [
    {
     "name": "stdout",
     "output_type": "stream",
     "text": [
      "`logits_to_text` function loaded.\n"
     ]
    }
   ],
   "source": [
    "def logits_to_text(logits, tokenizer):\n",
    "    \"\"\"\n",
    "    Turn logits from a neural network into text using the tokenizer\n",
    "    :param logits: Logits from a neural network\n",
    "    :param tokenizer: Keras Tokenizer fit on the labels\n",
    "    :return: String that represents the text of the logits\n",
    "    \"\"\"\n",
    "    index_to_words = {id: word for word, id in tokenizer.word_index.items()}\n",
    "    index_to_words[0] = '<PAD>'\n",
    "\n",
    "    return ' '.join([index_to_words[prediction] for prediction in np.argmax(logits, 1)])\n",
    "\n",
    "print('`logits_to_text` function loaded.')"
   ]
  },
  {
   "cell_type": "markdown",
   "metadata": {},
   "source": [
    "### Model 1: RNN (IMPLEMENTATION)\n",
    "![RNN](images/rnn.png)\n",
    "A basic RNN model is a good baseline for sequence data.  In this model, you'll build a RNN that translates English to French."
   ]
  },
  {
   "cell_type": "code",
   "execution_count": 12,
   "metadata": {
    "scrolled": false
   },
   "outputs": [
    {
     "name": "stdout",
     "output_type": "stream",
     "text": [
      "tmp_x.shape:  (137861, 21, 1)\n",
      "tmp_x.shape[1:]:  (21, 1)\n",
      "Input(tmp_x.shape[1:]):  Tensor(\"input_2:0\", shape=(?, 21, 1), dtype=float32)\n",
      "preproc_french_sentences.shape[-2]:  21\n",
      "tmp_x.reshape((-1, preproc_french_sentences.shape[-2], 1)).shape):  (137861, 21, 1)\n",
      "Loading Model:\n",
      "Model Summary:\n",
      "_________________________________________________________________\n",
      "Layer (type)                 Output Shape              Param #   \n",
      "=================================================================\n",
      "input_3 (InputLayer)         (None, 21, 1)             0         \n",
      "_________________________________________________________________\n",
      "gru_2 (GRU)                  (None, 21, 64)            12672     \n",
      "_________________________________________________________________\n",
      "time_distributed_2 (TimeDist (None, 21, 344)           22360     \n",
      "_________________________________________________________________\n",
      "activation_2 (Activation)    (None, 21, 344)           0         \n",
      "=================================================================\n",
      "Total params: 35,032\n",
      "Trainable params: 35,032\n",
      "Non-trainable params: 0\n",
      "_________________________________________________________________\n",
      "\n",
      "Training Model:\n",
      "Train on 110288 samples, validate on 27573 samples\n",
      "Epoch 1/10\n",
      "110288/110288 [==============================] - 9s 80us/step - loss: 3.5226 - acc: 0.4148 - val_loss: nan - val_acc: 0.4556\n",
      "Epoch 2/10\n",
      "110288/110288 [==============================] - 7s 64us/step - loss: 2.4241 - acc: 0.4678 - val_loss: nan - val_acc: 0.4856\n",
      "Epoch 3/10\n",
      "110288/110288 [==============================] - 7s 64us/step - loss: 2.1561 - acc: 0.5124 - val_loss: nan - val_acc: 0.5417\n",
      "Epoch 4/10\n",
      "110288/110288 [==============================] - 7s 64us/step - loss: 1.9162 - acc: 0.5593 - val_loss: nan - val_acc: 0.5767\n",
      "Epoch 5/10\n",
      "110288/110288 [==============================] - 7s 64us/step - loss: 1.7421 - acc: 0.5809 - val_loss: nan - val_acc: 0.5859\n",
      "Epoch 6/10\n",
      "110288/110288 [==============================] - 7s 64us/step - loss: 1.6404 - acc: 0.5889 - val_loss: nan - val_acc: 0.5925\n",
      "Epoch 7/10\n",
      "110288/110288 [==============================] - 7s 64us/step - loss: 1.5747 - acc: 0.5983 - val_loss: nan - val_acc: 0.6026\n",
      "Epoch 8/10\n",
      "110288/110288 [==============================] - 7s 65us/step - loss: 1.5241 - acc: 0.6042 - val_loss: nan - val_acc: 0.6073\n",
      "Epoch 9/10\n",
      "110288/110288 [==============================] - 7s 65us/step - loss: 1.4824 - acc: 0.6098 - val_loss: nan - val_acc: 0.6177\n",
      "Epoch 10/10\n",
      "110288/110288 [==============================] - 7s 64us/step - loss: 1.4446 - acc: 0.6168 - val_loss: nan - val_acc: 0.6206\n",
      "Sample Prediction:\n",
      "new jersey est parfois parfois en l' et il est est en en <PAD> <PAD> <PAD> <PAD> <PAD> <PAD> <PAD> <PAD>\n"
     ]
    }
   ],
   "source": [
    "def simple_model(input_shape, output_sequence_length, english_vocab_size, french_vocab_size):\n",
    "    \"\"\"\n",
    "    Build and train a basic RNN on x and y\n",
    "    :param input_shape: Tuple of input shape\n",
    "    :param output_sequence_length: Length of output sequence\n",
    "    :param english_vocab_size: Number of unique English words in the dataset\n",
    "    :param french_vocab_size: Number of unique French words in the dataset\n",
    "    :return: Keras model built, but not trained\n",
    "    \"\"\"\n",
    "    # TODO: Build the layers    \n",
    "    learning_rate = 1e-3\n",
    "\n",
    "    input_seq = Input(input_shape[1:])\n",
    "    rnn = GRU(64, return_sequences=True)(input_seq)\n",
    "    logits = TimeDistributed(Dense(french_vocab_size))(rnn)\n",
    "\n",
    "    model = Model(input_seq, Activation('softmax')(logits))\n",
    "    model.compile(loss=sparse_categorical_crossentropy,\n",
    "                  optimizer=Adam(learning_rate),\n",
    "                  metrics=['accuracy'])\n",
    "    return model\n",
    "\n",
    "\n",
    "tests.test_simple_model(simple_model)\n",
    "\n",
    "\n",
    "# Reshaping the input to work with a basic RNN\n",
    "tmp_x = pad(preproc_english_sentences, max_french_sequence_length)\n",
    "# Convert 2d array to 3d if going from input_seq straight to GRU RNN\n",
    "tmp_x = tmp_x.reshape((-1, preproc_french_sentences.shape[-2], 1)) \n",
    "\n",
    "\n",
    "# Understand the input dimension\n",
    "print(\"tmp_x.shape: \", tmp_x.shape)\n",
    "print(\"tmp_x.shape[1:]: \", tmp_x.shape[1:])\n",
    "print(\"Input(tmp_x.shape[1:]): \", Input(tmp_x.shape[1:]))\n",
    "print(\"preproc_french_sentences.shape[-2]: \", preproc_french_sentences.shape[-2])\n",
    "print(\"tmp_x.reshape((-1, preproc_french_sentences.shape[-2], 1)).shape): \", tmp_x.reshape((-1, preproc_french_sentences.shape[-2], 1)).shape)\n",
    "\n",
    "\n",
    "# Train the neural network\n",
    "print('Loading Model:')\n",
    "simple_rnn_model = simple_model(\n",
    "    tmp_x.shape,\n",
    "    max_french_sequence_length,\n",
    "    english_vocab_size,\n",
    "    french_vocab_size)\n",
    "\n",
    "\n",
    "print('Model Summary:')\n",
    "simple_rnn_model.summary()\n",
    "\n",
    "\n",
    "print('\\nTraining Model:')\n",
    "simple_rnn_model.fit(tmp_x, preproc_french_sentences, batch_size=1024, epochs=10, validation_split=0.2)\n",
    "\n",
    "\n",
    "# Print prediction(s)\n",
    "print('Sample Prediction:')\n",
    "print(logits_to_text(simple_rnn_model.predict(tmp_x[:1])[0], french_tokenizer))"
   ]
  },
  {
   "cell_type": "markdown",
   "metadata": {},
   "source": [
    "### Model 2: Embedding (IMPLEMENTATION)\n",
    "![RNN](images/embedding.png)\n",
    "You've turned the words into ids, but there's a better representation of a word.  This is called word embeddings.  An embedding is a vector representation of the word that is close to similar words in n-dimensional space, where the n represents the size of the embedding vectors.\n",
    "\n",
    "In this model, you'll create a RNN model using embedding."
   ]
  },
  {
   "cell_type": "code",
   "execution_count": 13,
   "metadata": {},
   "outputs": [
    {
     "name": "stdout",
     "output_type": "stream",
     "text": [
      "Loading model:\n",
      "Model Summary:\n",
      "_________________________________________________________________\n",
      "Layer (type)                 Output Shape              Param #   \n",
      "=================================================================\n",
      "input_5 (InputLayer)         (None, 21)                0         \n",
      "_________________________________________________________________\n",
      "embedding_2 (Embedding)      (None, 21, 128)           25472     \n",
      "_________________________________________________________________\n",
      "gru_4 (GRU)                  (None, 21, 64)            37056     \n",
      "_________________________________________________________________\n",
      "time_distributed_4 (TimeDist (None, 21, 344)           22360     \n",
      "_________________________________________________________________\n",
      "activation_4 (Activation)    (None, 21, 344)           0         \n",
      "=================================================================\n",
      "Total params: 84,888\n",
      "Trainable params: 84,888\n",
      "Non-trainable params: 0\n",
      "_________________________________________________________________\n",
      "\n",
      "Training Model:\n",
      "Train on 110288 samples, validate on 27573 samples\n",
      "Epoch 1/10\n",
      "110288/110288 [==============================] - 8s 77us/step - loss: 3.6760 - acc: 0.4030 - val_loss: nan - val_acc: 0.4314\n",
      "Epoch 2/10\n",
      "110288/110288 [==============================] - 8s 74us/step - loss: 2.3631 - acc: 0.5065 - val_loss: nan - val_acc: 0.5677\n",
      "Epoch 3/10\n",
      "110288/110288 [==============================] - 8s 73us/step - loss: 1.5707 - acc: 0.6343 - val_loss: nan - val_acc: 0.6882\n",
      "Epoch 4/10\n",
      "110288/110288 [==============================] - 8s 74us/step - loss: 1.1339 - acc: 0.7226 - val_loss: nan - val_acc: 0.7499\n",
      "Epoch 5/10\n",
      "110288/110288 [==============================] - 8s 74us/step - loss: 0.9121 - acc: 0.7655 - val_loss: nan - val_acc: 0.7786\n",
      "Epoch 6/10\n",
      "110288/110288 [==============================] - 8s 74us/step - loss: 0.7737 - acc: 0.7909 - val_loss: nan - val_acc: 0.8032\n",
      "Epoch 7/10\n",
      "110288/110288 [==============================] - 8s 74us/step - loss: 0.6744 - acc: 0.8124 - val_loss: nan - val_acc: 0.8201\n",
      "Epoch 8/10\n",
      "110288/110288 [==============================] - 8s 74us/step - loss: 0.6005 - acc: 0.8302 - val_loss: nan - val_acc: 0.8375\n",
      "Epoch 9/10\n",
      "110288/110288 [==============================] - 8s 74us/step - loss: 0.5462 - acc: 0.8439 - val_loss: nan - val_acc: 0.8499\n",
      "Epoch 10/10\n",
      "110288/110288 [==============================] - 8s 74us/step - loss: 0.5044 - acc: 0.8549 - val_loss: nan - val_acc: 0.8611\n",
      "Sample Prediction:\n",
      "new jersey est parfois calme en l' et il il est neigeux en en <PAD> <PAD> <PAD> <PAD> <PAD> <PAD> <PAD>\n"
     ]
    }
   ],
   "source": [
    "def embed_model(input_shape, output_sequence_length, english_vocab_size, french_vocab_size):\n",
    "    \"\"\"\n",
    "    Build and train a RNN model using word embedding on x and y\n",
    "    :param input_shape: Tuple of input shape\n",
    "    :param output_sequence_length: Length of output sequence\n",
    "    :param english_vocab_size: Number of unique English words in the dataset\n",
    "    :param french_vocab_size: Number of unique French words in the dataset\n",
    "    :return: Keras model built, but not trained\n",
    "    \"\"\"\n",
    "    # TODO: Implement\n",
    "    learning_rate = 1e-3\n",
    "\n",
    "    input_seq = Input(input_shape[1:])\n",
    "    embedding_layer = Embedding(input_dim=english_vocab_size, output_dim=128)(input_seq)\n",
    "    rnn = GRU(64, return_sequences=True)(embedding_layer)\n",
    "    logits = TimeDistributed(Dense(french_vocab_size))(rnn)\n",
    "\n",
    "    model = Model(input_seq, Activation('softmax')(logits))\n",
    "    model.compile(loss=sparse_categorical_crossentropy,\n",
    "                  optimizer=Adam(learning_rate),\n",
    "                  metrics=['accuracy'])\n",
    "    return model\n",
    "\n",
    "tests.test_embed_model(embed_model)\n",
    "\n",
    "\n",
    "# TODO: Reshape the input\n",
    "# Embedding() takes in a 2D tensor and returns a 3D tensor (batch_size, input_length, output_dim),\n",
    "# so we don't need to reshape it.\n",
    "tmp_x = pad(preproc_english_sentences, length=max_french_sequence_length)\n",
    "\n",
    "\n",
    "# TODO: Train the neural network\n",
    "print('Loading model:')\n",
    "embedding_model = embed_model(\n",
    "    input_shape=tmp_x.shape,\n",
    "    output_sequence_length=max_french_sequence_length,\n",
    "    english_vocab_size=english_vocab_size,\n",
    "    french_vocab_size=french_vocab_size)\n",
    "\n",
    "\n",
    "print('Model Summary:')\n",
    "embedding_model.summary()\n",
    "\n",
    "\n",
    "print('\\nTraining Model:')\n",
    "embedding_model.fit(x=tmp_x, y=preproc_french_sentences, batch_size=1024, epochs=10, validation_split=0.2)\n",
    "\n",
    "\n",
    "# TODO: Print prediction(s)\n",
    "print('Sample Prediction:')\n",
    "print(logits_to_text(embedding_model.predict(tmp_x[:1])[0], french_tokenizer))\n"
   ]
  },
  {
   "cell_type": "markdown",
   "metadata": {},
   "source": [
    "### Model 3: Bidirectional RNNs (IMPLEMENTATION)\n",
    "![RNN](images/bidirectional.png)\n",
    "One restriction of a RNN is that it can't see the future input, only the past.  This is where bidirectional recurrent neural networks come in.  They are able to see the future data."
   ]
  },
  {
   "cell_type": "code",
   "execution_count": 14,
   "metadata": {},
   "outputs": [
    {
     "name": "stdout",
     "output_type": "stream",
     "text": [
      "Loading Model:\n",
      "Model Summary:\n",
      "_________________________________________________________________\n",
      "Layer (type)                 Output Shape              Param #   \n",
      "=================================================================\n",
      "input_7 (InputLayer)         (None, 21)                0         \n",
      "_________________________________________________________________\n",
      "embedding_3 (Embedding)      (None, 21, 128)           25472     \n",
      "_________________________________________________________________\n",
      "gru_6 (GRU)                  (None, 21, 64)            37056     \n",
      "_________________________________________________________________\n",
      "time_distributed_6 (TimeDist (None, 21, 344)           22360     \n",
      "_________________________________________________________________\n",
      "activation_6 (Activation)    (None, 21, 344)           0         \n",
      "=================================================================\n",
      "Total params: 84,888\n",
      "Trainable params: 84,888\n",
      "Non-trainable params: 0\n",
      "_________________________________________________________________\n",
      "\n",
      "Training Model:\n",
      "Train on 110288 samples, validate on 27573 samples\n",
      "Epoch 1/10\n",
      "110288/110288 [==============================] - 9s 78us/step - loss: 3.7085 - acc: 0.4035 - val_loss: nan - val_acc: 0.4101\n",
      "Epoch 2/10\n",
      "110288/110288 [==============================] - 8s 74us/step - loss: 2.3908 - acc: 0.4877 - val_loss: nan - val_acc: 0.5610\n",
      "Epoch 3/10\n",
      "110288/110288 [==============================] - 8s 74us/step - loss: 1.6063 - acc: 0.6204 - val_loss: nan - val_acc: 0.6617\n",
      "Epoch 4/10\n",
      "110288/110288 [==============================] - 8s 74us/step - loss: 1.1971 - acc: 0.7005 - val_loss: nan - val_acc: 0.7408\n",
      "Epoch 5/10\n",
      "110288/110288 [==============================] - 8s 74us/step - loss: 0.9231 - acc: 0.7650 - val_loss: nan - val_acc: 0.7828\n",
      "Epoch 6/10\n",
      "110288/110288 [==============================] - 8s 74us/step - loss: 0.7661 - acc: 0.7960 - val_loss: nan - val_acc: 0.8104\n",
      "Epoch 7/10\n",
      "110288/110288 [==============================] - 8s 74us/step - loss: 0.6648 - acc: 0.8172 - val_loss: nan - val_acc: 0.8261\n",
      "Epoch 8/10\n",
      "110288/110288 [==============================] - 8s 74us/step - loss: 0.5959 - acc: 0.8319 - val_loss: nan - val_acc: 0.8390\n",
      "Epoch 9/10\n",
      "110288/110288 [==============================] - 8s 74us/step - loss: 0.5422 - acc: 0.8448 - val_loss: nan - val_acc: 0.8513\n",
      "Epoch 10/10\n",
      "110288/110288 [==============================] - 8s 74us/step - loss: 0.4992 - acc: 0.8562 - val_loss: nan - val_acc: 0.8618\n",
      "Sample Prediction:\n",
      "new jersey est parfois calme en l' et il est est en en avril <PAD> <PAD> <PAD> <PAD> <PAD> <PAD> <PAD>\n"
     ]
    }
   ],
   "source": [
    "def bd_model(input_shape, output_sequence_length, english_vocab_size, french_vocab_size):\n",
    "    \"\"\"\n",
    "    Build and train a bidirectional RNN model on x and y\n",
    "    :param input_shape: Tuple of input shape\n",
    "    :param output_sequence_length: Length of output sequence\n",
    "    :param english_vocab_size: Number of unique English words in the dataset\n",
    "    :param french_vocab_size: Number of unique French words in the dataset\n",
    "    :return: Keras model built, but not trained\n",
    "    \"\"\"\n",
    "    # TODO: Implement\n",
    "    learning_rate = 1e-3\n",
    "\n",
    "    input_seq = Input(input_shape[1:])\n",
    "    rnn = GRU(128, return_sequences=True)\n",
    "    bd = Bidirectional(rnn)(input_seq)\n",
    "    logits = TimeDistributed(Dense(french_vocab_size))(bd)\n",
    "    model = Model(input_seq, Activation('softmax')(logits))\n",
    "    model.compile(loss=sparse_categorical_crossentropy,\n",
    "                  optimizer=Adam(learning_rate),\n",
    "                  metrics=['accuracy'])\n",
    "    return model\n",
    "\n",
    "\n",
    "tests.test_bd_model(bd_model)\n",
    "\n",
    "\n",
    "# TODO: Train the neural network\n",
    "print('Loading Model:')\n",
    "bd_model = embed_model(\n",
    "    input_shape=tmp_x.shape,\n",
    "    output_sequence_length=max_french_sequence_length,\n",
    "    english_vocab_size=english_vocab_size,\n",
    "    french_vocab_size=french_vocab_size)\n",
    "\n",
    "\n",
    "print('Model Summary:')\n",
    "bd_model.summary()\n",
    "\n",
    "\n",
    "print('\\nTraining Model:')\n",
    "bd_model.fit(x=tmp_x, y=preproc_french_sentences, batch_size=1024, epochs=10, validation_split=0.2)\n",
    "\n",
    "\n",
    "# TODO: Print prediction(s)\n",
    "print('Sample Prediction:')\n",
    "print(logits_to_text(bd_model.predict(tmp_x[:1])[0], french_tokenizer))\n"
   ]
  },
  {
   "cell_type": "markdown",
   "metadata": {},
   "source": [
    "### Model 4: Encoder-Decoder (OPTIONAL)\n",
    "Time to look at encoder-decoder models.  This model is made up of an encoder and decoder. The encoder creates a matrix representation of the sentence.  The decoder takes this matrix as input and predicts the translation as output.\n",
    "\n",
    "Create an encoder-decoder model in the cell below."
   ]
  },
  {
   "cell_type": "code",
   "execution_count": 29,
   "metadata": {
    "scrolled": false
   },
   "outputs": [
    {
     "name": "stdout",
     "output_type": "stream",
     "text": [
      "_________________________________________________________________\n",
      "Layer (type)                 Output Shape              Param #   \n",
      "=================================================================\n",
      "input_22 (InputLayer)        (None, 21, 1)             0         \n",
      "_________________________________________________________________\n",
      "lstm_20 (LSTM)               (None, 256)               264192    \n",
      "_________________________________________________________________\n",
      "repeat_vector_16 (RepeatVect (None, 21, 256)           0         \n",
      "_________________________________________________________________\n",
      "lstm_21 (LSTM)               (None, 21, 256)           525312    \n",
      "_________________________________________________________________\n",
      "time_distributed_19 (TimeDis (None, 21, 344)           88408     \n",
      "_________________________________________________________________\n",
      "activation_18 (Activation)   (None, 21, 344)           0         \n",
      "=================================================================\n",
      "Total params: 877,912\n",
      "Trainable params: 877,912\n",
      "Non-trainable params: 0\n",
      "_________________________________________________________________\n",
      "Train on 110288 samples, validate on 27573 samples\n",
      "Epoch 1/20\n",
      "110288/110288 [==============================] - 27s 243us/step - loss: 2.8659 - acc: 0.4465 - val_loss: nan - val_acc: 0.5092\n",
      "Epoch 2/20\n",
      "110288/110288 [==============================] - 25s 226us/step - loss: 2.1357 - acc: 0.5219 - val_loss: nan - val_acc: 0.5403\n",
      "Epoch 3/20\n",
      "110288/110288 [==============================] - 25s 225us/step - loss: 1.8501 - acc: 0.5445 - val_loss: nan - val_acc: 0.5490\n",
      "Epoch 4/20\n",
      "110288/110288 [==============================] - 25s 226us/step - loss: 1.7031 - acc: 0.5613 - val_loss: nan - val_acc: 0.5585\n",
      "Epoch 5/20\n",
      "110288/110288 [==============================] - 25s 226us/step - loss: 1.5960 - acc: 0.5748 - val_loss: nan - val_acc: 0.5585\n",
      "Epoch 6/20\n",
      "110288/110288 [==============================] - 25s 227us/step - loss: 1.5302 - acc: 0.5850 - val_loss: nan - val_acc: 0.5676\n",
      "Epoch 7/20\n",
      "110288/110288 [==============================] - 25s 226us/step - loss: 1.4602 - acc: 0.6003 - val_loss: nan - val_acc: 0.5677\n",
      "Epoch 8/20\n",
      "110288/110288 [==============================] - 25s 226us/step - loss: 1.4058 - acc: 0.6106 - val_loss: nan - val_acc: 0.5745\n",
      "Epoch 9/20\n",
      "110288/110288 [==============================] - 25s 227us/step - loss: 1.4610 - acc: 0.6055 - val_loss: nan - val_acc: 0.5829\n",
      "Epoch 10/20\n",
      "110288/110288 [==============================] - 25s 227us/step - loss: 1.3663 - acc: 0.6177 - val_loss: nan - val_acc: 0.5784\n",
      "Epoch 11/20\n",
      "110288/110288 [==============================] - 25s 226us/step - loss: 1.3329 - acc: 0.6232 - val_loss: nan - val_acc: 0.5917\n",
      "Epoch 12/20\n",
      "110288/110288 [==============================] - 25s 226us/step - loss: 1.3060 - acc: 0.6276 - val_loss: nan - val_acc: 0.5806\n",
      "Epoch 13/20\n",
      "110288/110288 [==============================] - 25s 227us/step - loss: 1.2850 - acc: 0.6313 - val_loss: nan - val_acc: 0.5912\n",
      "Epoch 14/20\n",
      "110288/110288 [==============================] - 25s 227us/step - loss: 1.2612 - acc: 0.6348 - val_loss: nan - val_acc: 0.5877\n",
      "Epoch 15/20\n",
      "110288/110288 [==============================] - 25s 226us/step - loss: 1.2449 - acc: 0.6365 - val_loss: nan - val_acc: 0.5870\n",
      "Epoch 16/20\n",
      "110288/110288 [==============================] - 25s 226us/step - loss: 1.2267 - acc: 0.6396 - val_loss: nan - val_acc: 0.5846\n",
      "Epoch 17/20\n",
      "110288/110288 [==============================] - 25s 227us/step - loss: 1.2038 - acc: 0.6430 - val_loss: nan - val_acc: 0.5837\n",
      "Epoch 18/20\n",
      "110288/110288 [==============================] - 25s 226us/step - loss: 1.1896 - acc: 0.6453 - val_loss: nan - val_acc: 0.5800\n",
      "Epoch 19/20\n",
      "110288/110288 [==============================] - 25s 226us/step - loss: 1.1725 - acc: 0.6488 - val_loss: nan - val_acc: 0.5757\n",
      "Epoch 20/20\n",
      "110288/110288 [==============================] - 25s 226us/step - loss: 1.1625 - acc: 0.6498 - val_loss: nan - val_acc: 0.5824\n"
     ]
    },
    {
     "data": {
      "text/plain": [
       "<keras.callbacks.History at 0x7f77d7f5e358>"
      ]
     },
     "execution_count": 29,
     "metadata": {},
     "output_type": "execute_result"
    }
   ],
   "source": [
    "def encdec_model(input_shape, output_sequence_length, english_vocab_size, french_vocab_size):\n",
    "    \"\"\"\n",
    "    Build and train an encoder-decoder model on x and y\n",
    "    :param input_shape: Tuple of input shape\n",
    "    :param output_sequence_length: Length of output sequence\n",
    "    :param english_vocab_size: Number of unique English words in the dataset\n",
    "    :param french_vocab_size: Number of unique French words in the dataset\n",
    "    :return: Keras model built, but not trained\n",
    "    \"\"\"\n",
    "    batch = 256\n",
    "    learning_rate = 1e-3\n",
    "\n",
    "    input_seq = Input(input_shape[1:])\n",
    "    rnn = LSTM(batch, return_sequences=False, dropout=0.25)(input_seq)\n",
    "    rv = RepeatVector(output_sequence_length)(rnn)\n",
    "    rnn = LSTM(batch, return_sequences=True, dropout=0.1)(rv)\n",
    "    logits = TimeDistributed(Dense(french_vocab_size))(rnn)\n",
    "    model = Model(input_seq, Activation('softmax')(logits))\n",
    "    model.compile(loss=sparse_categorical_crossentropy,\n",
    "                  optimizer=Adam(learning_rate),\n",
    "                  metrics=['accuracy'])\n",
    "    return model    \n",
    "\n",
    "\n",
    "# Run tests\n",
    "tests.test_encdec_model(encdec_model)\n",
    "\n",
    "\n",
    "# TODO: Reshape the input\n",
    "tmp_x = pad(preproc_english_sentences, preproc_french_sentences.shape[1])\n",
    "tmp_x = tmp_x.reshape((-1, preproc_french_sentences.shape[-2], 1))\n",
    "\n",
    "\n",
    "# TODO: Train the neural network\n",
    "encdec_model= encdec_model(tmp_x.shape, \n",
    "                           preproc_french_sentences.shape[1], \n",
    "                           english_vocab_size, \n",
    "                           french_vocab_size)\n",
    "encdec_model.summary()\n",
    "encdec_model.fit(tmp_x, \n",
    "                 preproc_french_sentences, \n",
    "                 batch_size=1024, \n",
    "                 epochs=20, \n",
    "                 validation_split=0.2)"
   ]
  },
  {
   "cell_type": "code",
   "execution_count": 30,
   "metadata": {},
   "outputs": [
    {
     "name": "stdout",
     "output_type": "stream",
     "text": [
      "new jersey est parfois agréable en l' mais il est est en juin <PAD> <PAD> <PAD> <PAD> <PAD> <PAD> <PAD> <PAD>\n"
     ]
    }
   ],
   "source": [
    "# Printing prediction(s)\n",
    "print(logits_to_text(encdec_model.predict(tmp_x[:1])[0], french_tokenizer))"
   ]
  },
  {
   "cell_type": "markdown",
   "metadata": {},
   "source": [
    "### Model 5: Custom (IMPLEMENTATION)\n",
    "Use everything you learned from the previous models to create a model that incorporates embedding and a bidirectional rnn into one model."
   ]
  },
  {
   "cell_type": "code",
   "execution_count": 16,
   "metadata": {
    "scrolled": false
   },
   "outputs": [
    {
     "name": "stdout",
     "output_type": "stream",
     "text": [
      "Padding input sequence\n",
      "Loaded Model\n",
      "\n",
      "Model Summary:\n",
      "_________________________________________________________________\n",
      "Layer (type)                 Output Shape              Param #   \n",
      "=================================================================\n",
      "input_9 (InputLayer)         (None, 15)                0         \n",
      "_________________________________________________________________\n",
      "embedding_5 (Embedding)      (None, 15, 256)           50944     \n",
      "_________________________________________________________________\n",
      "bidirectional_3 (Bidirection (None, 512)               1050624   \n",
      "_________________________________________________________________\n",
      "repeat_vector_2 (RepeatVecto (None, 21, 512)           0         \n",
      "_________________________________________________________________\n",
      "lstm_4 (LSTM)                (None, 21, 256)           787456    \n",
      "_________________________________________________________________\n",
      "time_distributed_8 (TimeDist (None, 21, 344)           88408     \n",
      "_________________________________________________________________\n",
      "activation_8 (Activation)    (None, 21, 344)           0         \n",
      "=================================================================\n",
      "Total params: 1,977,432\n",
      "Trainable params: 1,977,432\n",
      "Non-trainable params: 0\n",
      "_________________________________________________________________\n"
     ]
    }
   ],
   "source": [
    "def model_final(input_shape, output_sequence_length, english_vocab_size, french_vocab_size):\n",
    "    \"\"\"\n",
    "    Build and train a model that incorporates embedding, encoder-decoder, and bidirectional RNN on x and y\n",
    "    :param input_shape: Tuple of input shape\n",
    "    :param output_sequence_length: Length of output sequence\n",
    "    :param english_vocab_size: Number of unique English words in the dataset\n",
    "    :param french_vocab_size: Number of unique French words in the dataset\n",
    "    :return: Keras model built, but not trained\n",
    "    \"\"\"\n",
    "    # TODO: Implement\n",
    "    learning_rate = 5e-3\n",
    "    units = 256\n",
    "\n",
    "    input_seq = Input(input_shape[1:])\n",
    "    embedding_layer = Embedding(input_dim=english_vocab_size, output_dim=256, input_length=input_shape[1])(input_seq)\n",
    "    bd1 = Bidirectional(LSTM(units))(embedding_layer)\n",
    "    pad = RepeatVector(output_sequence_length)(bd1)\n",
    "    rnn = LSTM(units, return_sequences=True)(pad)\n",
    "    logits = TimeDistributed(Dense(french_vocab_size))(rnn)\n",
    "    model = Model(input_seq, Activation('softmax')(logits))\n",
    "    model.compile(loss=sparse_categorical_crossentropy,\n",
    "                  optimizer=Adam(learning_rate),\n",
    "                  metrics=['accuracy'])\n",
    "    return model\n",
    "\n",
    "\n",
    "tests.test_model_final(model_final)\n",
    "\n",
    "\n",
    "# Pad sequence\n",
    "print(\"Padding input sequence\")\n",
    "tmp_x = pad(preproc_english_sentences)\n",
    "\n",
    "\n",
    "# TODO: Train the final model\n",
    "hybrid_model = model_final(\n",
    "    input_shape=tmp_x.shape,\n",
    "    output_sequence_length=max_french_sequence_length,\n",
    "    english_vocab_size=english_vocab_size,\n",
    "    french_vocab_size=french_vocab_size)\n",
    "print('Loaded Model')\n",
    "\n",
    "print('\\nModel Summary:')\n",
    "hybrid_model.summary()"
   ]
  },
  {
   "cell_type": "markdown",
   "metadata": {},
   "source": [
    "## Prediction (IMPLEMENTATION)"
   ]
  },
  {
   "cell_type": "code",
   "execution_count": 17,
   "metadata": {
    "scrolled": false
   },
   "outputs": [
    {
     "name": "stdout",
     "output_type": "stream",
     "text": [
      "Padding input sequence\n",
      "tmp_x.shape (after padding):  (137861, 15)\n",
      "y.shape[1]:  21\n",
      "\n",
      "Training Model\n",
      "Train on 110288 samples, validate on 27573 samples\n",
      "Epoch 1/10\n",
      "110288/110288 [==============================] - 37s 335us/step - loss: 2.4102 - acc: 0.4886 - val_loss: nan - val_acc: 0.5820\n",
      "Epoch 2/10\n",
      "110288/110288 [==============================] - 36s 324us/step - loss: 1.2820 - acc: 0.6538 - val_loss: nan - val_acc: 0.7116\n",
      "Epoch 3/10\n",
      "110288/110288 [==============================] - 36s 324us/step - loss: 0.8985 - acc: 0.7419 - val_loss: nan - val_acc: 0.7830\n",
      "Epoch 4/10\n",
      "110288/110288 [==============================] - 36s 324us/step - loss: 0.6316 - acc: 0.8122 - val_loss: nan - val_acc: 0.8500\n",
      "Epoch 5/10\n",
      "110288/110288 [==============================] - 36s 324us/step - loss: 0.3900 - acc: 0.8877 - val_loss: nan - val_acc: 0.9177\n",
      "Epoch 6/10\n",
      "110288/110288 [==============================] - 36s 324us/step - loss: 0.2397 - acc: 0.9371 - val_loss: nan - val_acc: 0.9449\n",
      "Epoch 7/10\n",
      "110288/110288 [==============================] - 36s 324us/step - loss: 0.1687 - acc: 0.9554 - val_loss: nan - val_acc: 0.9605\n",
      "Epoch 8/10\n",
      "110288/110288 [==============================] - 36s 325us/step - loss: 0.1289 - acc: 0.9650 - val_loss: nan - val_acc: 0.9642\n",
      "Epoch 9/10\n",
      "110288/110288 [==============================] - 36s 325us/step - loss: 0.1072 - acc: 0.9705 - val_loss: nan - val_acc: 0.9709\n",
      "Epoch 10/10\n",
      "110288/110288 [==============================] - 36s 325us/step - loss: 0.0902 - acc: 0.9750 - val_loss: nan - val_acc: 0.9548\n",
      "Sample 1:\n",
      "il a vu un vieux camion jaune <PAD> <PAD> <PAD> <PAD> <PAD> <PAD> <PAD> <PAD> <PAD> <PAD> <PAD> <PAD> <PAD> <PAD>\n",
      "Il a vu un vieux camion jaune\n",
      "Sample 2:\n",
      "new jersey est parfois calme pendant l' automne et il est neigeux en avril <PAD> <PAD> <PAD> <PAD> <PAD> <PAD> <PAD>\n",
      "new jersey est parfois calme pendant l' automne et il est neigeux en avril <PAD> <PAD> <PAD> <PAD> <PAD> <PAD> <PAD>\n"
     ]
    }
   ],
   "source": [
    "def final_predictions(x, y, x_tk, y_tk):\n",
    "    \"\"\"\n",
    "    Gets predictions using the final model\n",
    "    :param x: Preprocessed English data\n",
    "    :param y: Preprocessed French data\n",
    "    :param x_tk: English tokenizer\n",
    "    :param y_tk: French tokenizer\n",
    "    \"\"\"\n",
    "    # TODO: Train neural network using model_final\n",
    "    \n",
    "    # Pad sequence\n",
    "    print(\"Padding input sequence\")\n",
    "    tmp_x = pad(x)\n",
    "    print(\"tmp_x.shape (after padding): \", tmp_x.shape)\n",
    "    print(\"y.shape[1]: \", y.shape[1])\n",
    "    \n",
    "    model = model_final(\n",
    "        input_shape=tmp_x.shape,\n",
    "        output_sequence_length=max_french_sequence_length,\n",
    "        english_vocab_size=english_vocab_size,\n",
    "        french_vocab_size=french_vocab_size)\n",
    "    \n",
    "    print('\\nTraining Model')\n",
    "    model.fit(x=tmp_x, y=y, batch_size=1024, epochs=10, validation_split=0.2)\n",
    "\n",
    "    \n",
    "    ## DON'T EDIT ANYTHING BELOW THIS LINE\n",
    "    y_id_to_word = {value: key for key, value in y_tk.word_index.items()}\n",
    "    y_id_to_word[0] = '<PAD>'\n",
    "\n",
    "    sentence = 'he saw a old yellow truck'\n",
    "\n",
    "    sentence = [x_tk.word_index[word] for word in sentence.split()]\n",
    "    sentence = pad_sequences([sentence], maxlen=x.shape[-1], padding='post')\n",
    "    sentences = np.array([sentence[0], x[0]])\n",
    "    predictions = model.predict(sentences, len(sentences))\n",
    "\n",
    "\n",
    "    print('Sample 1:')\n",
    "    print(' '.join([y_id_to_word[np.argmax(x)] for x in predictions[0]]))\n",
    "    print('Il a vu un vieux camion jaune')\n",
    "    print('Sample 2:')\n",
    "    print(' '.join([y_id_to_word[np.argmax(x)] for x in predictions[1]]))\n",
    "    print(' '.join([y_id_to_word[np.max(x)] for x in y[0]]))\n",
    "\n",
    "\n",
    "final_predictions(preproc_english_sentences, preproc_french_sentences, english_tokenizer, french_tokenizer)"
   ]
  },
  {
   "cell_type": "markdown",
   "metadata": {},
   "source": [
    "## Optional Enhancements\n",
    "\n",
    "This project focuses on learning various network architectures for machine translation, but we don't evaluate the models according to best practices by splitting the data into separate test & training sets -- so the model accuracy is overstated. Use the [`sklearn.model_selection.train_test_split()`](http://scikit-learn.org/stable/modules/generated/sklearn.model_selection.train_test_split.html) function to create separate training & test datasets, then retrain each of the models using only the training set and evaluate the prediction accuracy using the hold out test set. Does the \"best\" model change?"
   ]
  },
  {
   "cell_type": "markdown",
   "metadata": {},
   "source": [
    "## Resources Used"
   ]
  },
  {
   "cell_type": "markdown",
   "metadata": {},
   "source": [
    "Keras Docs:\n",
    "\n",
    "- https://keras.io/api/layers/recurrent_layers/bidirectional/\n",
    "- https://keras.io/examples/nlp/bidirectional_lstm_imdb/\n",
    "- https://keras.io/api/layers/recurrent_layers/lstm/\n",
    "- https://keras.io/api/layers/core_layers/embedding/\n",
    "- https://keras.io/api/layers/core_layers/dense/\n",
    "\n",
    "Forums that helped with troubleshooting:\n",
    "\n",
    "- https://stackoverflow.com/questions/41602258/tokenizer-error-in-keras-pipeline\n",
    "- https://thispointer.com/python-check-if-all-elements-in-a-list-are-same-or-matches-a-condition/\n",
    "- https://stackoverflow.com/questions/43010339/python-tensorflow-input-to-reshape-is-a-tensor-with-92416-values-but-the-re\n",
    "- https://machinelearningmastery.com/encoder-decoder-models-text-summarization-keras/\n",
    "- \"Understanding sequences left post-tokenization+padding versus post-preprocessing\" https://knowledge.udacity.com/questions/326424\n",
    "- \"Where to begin with simple_model in Deciphering Code with Character-Level RNN\" https://knowledge.udacity.com/questions/326428\n",
    "- \"Not understanding why my bidirectional model throws an AttributeError\" https://knowledge.udacity.com/questions/329651\n",
    "- \"final predictions: wrong shape\" https://knowledge.udacity.com/questions/270706"
   ]
  },
  {
   "cell_type": "code",
   "execution_count": null,
   "metadata": {},
   "outputs": [],
   "source": []
  }
 ],
 "metadata": {
  "kernelspec": {
   "display_name": "Python 3",
   "language": "python",
   "name": "python3"
  },
  "language_info": {
   "codemirror_mode": {
    "name": "ipython",
    "version": 3
   },
   "file_extension": ".py",
   "mimetype": "text/x-python",
   "name": "python",
   "nbconvert_exporter": "python",
   "pygments_lexer": "ipython3",
   "version": "3.6.3"
  }
 },
 "nbformat": 4,
 "nbformat_minor": 1
}
